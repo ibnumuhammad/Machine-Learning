{
  "nbformat": 4,
  "nbformat_minor": 0,
  "metadata": {
    "colab": {
      "name": "multiclass classification.ipynb",
      "provenance": [],
      "authorship_tag": "ABX9TyNFRCjAzs3nWnTrw5VvM/qs",
      "include_colab_link": true
    },
    "kernelspec": {
      "name": "python3",
      "display_name": "Python 3"
    },
    "language_info": {
      "name": "python"
    }
  },
  "cells": [
    {
      "cell_type": "markdown",
      "metadata": {
        "id": "view-in-github",
        "colab_type": "text"
      },
      "source": [
        "<a href=\"https://colab.research.google.com/github/ibnumuhammad/Machine-Learning/blob/main/multiclass_classification.ipynb\" target=\"_parent\"><img src=\"https://colab.research.google.com/assets/colab-badge.svg\" alt=\"Open In Colab\"/></a>"
      ]
    },
    {
      "cell_type": "markdown",
      "metadata": {
        "id": "xQqWbt4GbVmr"
      },
      "source": [
        "## **DataSets**"
      ]
    },
    {
      "cell_type": "code",
      "metadata": {
        "colab": {
          "base_uri": "https://localhost:8080/"
        },
        "id": "vRBrIQ1mbCcP",
        "outputId": "559b4d05-d4f2-4ca7-cd6b-014dc7b3fa0f"
      },
      "source": [
        "from sklearn import datasets\n",
        "\n",
        "wine_bunch = datasets.load_wine()\n",
        "wine_bunch.keys()"
      ],
      "execution_count": 1,
      "outputs": [
        {
          "output_type": "execute_result",
          "data": {
            "text/plain": [
              "dict_keys(['data', 'target', 'target_names', 'DESCR', 'feature_names'])"
            ]
          },
          "metadata": {
            "tags": []
          },
          "execution_count": 1
        }
      ]
    },
    {
      "cell_type": "code",
      "metadata": {
        "colab": {
          "base_uri": "https://localhost:8080/"
        },
        "id": "QQpJ7ILMblZU",
        "outputId": "f7413c1a-ef33-4c91-fba6-e1149145734c"
      },
      "source": [
        "wine_bunch['target']"
      ],
      "execution_count": 2,
      "outputs": [
        {
          "output_type": "execute_result",
          "data": {
            "text/plain": [
              "array([0, 0, 0, 0, 0, 0, 0, 0, 0, 0, 0, 0, 0, 0, 0, 0, 0, 0, 0, 0, 0, 0,\n",
              "       0, 0, 0, 0, 0, 0, 0, 0, 0, 0, 0, 0, 0, 0, 0, 0, 0, 0, 0, 0, 0, 0,\n",
              "       0, 0, 0, 0, 0, 0, 0, 0, 0, 0, 0, 0, 0, 0, 0, 1, 1, 1, 1, 1, 1, 1,\n",
              "       1, 1, 1, 1, 1, 1, 1, 1, 1, 1, 1, 1, 1, 1, 1, 1, 1, 1, 1, 1, 1, 1,\n",
              "       1, 1, 1, 1, 1, 1, 1, 1, 1, 1, 1, 1, 1, 1, 1, 1, 1, 1, 1, 1, 1, 1,\n",
              "       1, 1, 1, 1, 1, 1, 1, 1, 1, 1, 1, 1, 1, 1, 1, 1, 1, 1, 1, 1, 2, 2,\n",
              "       2, 2, 2, 2, 2, 2, 2, 2, 2, 2, 2, 2, 2, 2, 2, 2, 2, 2, 2, 2, 2, 2,\n",
              "       2, 2, 2, 2, 2, 2, 2, 2, 2, 2, 2, 2, 2, 2, 2, 2, 2, 2, 2, 2, 2, 2,\n",
              "       2, 2])"
            ]
          },
          "metadata": {
            "tags": []
          },
          "execution_count": 2
        }
      ]
    },
    {
      "cell_type": "code",
      "metadata": {
        "colab": {
          "base_uri": "https://localhost:8080/"
        },
        "id": "-dGpbXYQb67I",
        "outputId": "348e9edd-6eae-481f-aeb9-e154964561bf"
      },
      "source": [
        "FEATURES = wine_bunch['feature_names']\n",
        "TARGET = 'species'\n",
        "\n",
        "FEATURES, TARGET"
      ],
      "execution_count": 3,
      "outputs": [
        {
          "output_type": "execute_result",
          "data": {
            "text/plain": [
              "(['alcohol',\n",
              "  'malic_acid',\n",
              "  'ash',\n",
              "  'alcalinity_of_ash',\n",
              "  'magnesium',\n",
              "  'total_phenols',\n",
              "  'flavanoids',\n",
              "  'nonflavanoid_phenols',\n",
              "  'proanthocyanins',\n",
              "  'color_intensity',\n",
              "  'hue',\n",
              "  'od280/od315_of_diluted_wines',\n",
              "  'proline'],\n",
              " 'species')"
            ]
          },
          "metadata": {
            "tags": []
          },
          "execution_count": 3
        }
      ]
    },
    {
      "cell_type": "code",
      "metadata": {
        "colab": {
          "base_uri": "https://localhost:8080/",
          "height": 372
        },
        "id": "YHsxdLjXcIVc",
        "outputId": "58fe2653-ed06-494e-97c1-867846a5d55c"
      },
      "source": [
        "import pandas as pd \n",
        "\n",
        "wine_df = pd.DataFrame(wine_bunch['data'], columns=FEATURES)\n",
        "wine_df[TARGET] = wine_bunch['target']\n",
        "\n",
        "wine_df.sample(10)"
      ],
      "execution_count": 4,
      "outputs": [
        {
          "output_type": "execute_result",
          "data": {
            "text/html": [
              "<div>\n",
              "<style scoped>\n",
              "    .dataframe tbody tr th:only-of-type {\n",
              "        vertical-align: middle;\n",
              "    }\n",
              "\n",
              "    .dataframe tbody tr th {\n",
              "        vertical-align: top;\n",
              "    }\n",
              "\n",
              "    .dataframe thead th {\n",
              "        text-align: right;\n",
              "    }\n",
              "</style>\n",
              "<table border=\"1\" class=\"dataframe\">\n",
              "  <thead>\n",
              "    <tr style=\"text-align: right;\">\n",
              "      <th></th>\n",
              "      <th>alcohol</th>\n",
              "      <th>malic_acid</th>\n",
              "      <th>ash</th>\n",
              "      <th>alcalinity_of_ash</th>\n",
              "      <th>magnesium</th>\n",
              "      <th>total_phenols</th>\n",
              "      <th>flavanoids</th>\n",
              "      <th>nonflavanoid_phenols</th>\n",
              "      <th>proanthocyanins</th>\n",
              "      <th>color_intensity</th>\n",
              "      <th>hue</th>\n",
              "      <th>od280/od315_of_diluted_wines</th>\n",
              "      <th>proline</th>\n",
              "      <th>species</th>\n",
              "    </tr>\n",
              "  </thead>\n",
              "  <tbody>\n",
              "    <tr>\n",
              "      <th>92</th>\n",
              "      <td>12.69</td>\n",
              "      <td>1.53</td>\n",
              "      <td>2.26</td>\n",
              "      <td>20.7</td>\n",
              "      <td>80.0</td>\n",
              "      <td>1.38</td>\n",
              "      <td>1.46</td>\n",
              "      <td>0.58</td>\n",
              "      <td>1.62</td>\n",
              "      <td>3.05</td>\n",
              "      <td>0.96</td>\n",
              "      <td>2.06</td>\n",
              "      <td>495.0</td>\n",
              "      <td>1</td>\n",
              "    </tr>\n",
              "    <tr>\n",
              "      <th>98</th>\n",
              "      <td>12.37</td>\n",
              "      <td>1.07</td>\n",
              "      <td>2.10</td>\n",
              "      <td>18.5</td>\n",
              "      <td>88.0</td>\n",
              "      <td>3.52</td>\n",
              "      <td>3.75</td>\n",
              "      <td>0.24</td>\n",
              "      <td>1.95</td>\n",
              "      <td>4.50</td>\n",
              "      <td>1.04</td>\n",
              "      <td>2.77</td>\n",
              "      <td>660.0</td>\n",
              "      <td>1</td>\n",
              "    </tr>\n",
              "    <tr>\n",
              "      <th>74</th>\n",
              "      <td>11.96</td>\n",
              "      <td>1.09</td>\n",
              "      <td>2.30</td>\n",
              "      <td>21.0</td>\n",
              "      <td>101.0</td>\n",
              "      <td>3.38</td>\n",
              "      <td>2.14</td>\n",
              "      <td>0.13</td>\n",
              "      <td>1.65</td>\n",
              "      <td>3.21</td>\n",
              "      <td>0.99</td>\n",
              "      <td>3.13</td>\n",
              "      <td>886.0</td>\n",
              "      <td>1</td>\n",
              "    </tr>\n",
              "    <tr>\n",
              "      <th>176</th>\n",
              "      <td>13.17</td>\n",
              "      <td>2.59</td>\n",
              "      <td>2.37</td>\n",
              "      <td>20.0</td>\n",
              "      <td>120.0</td>\n",
              "      <td>1.65</td>\n",
              "      <td>0.68</td>\n",
              "      <td>0.53</td>\n",
              "      <td>1.46</td>\n",
              "      <td>9.30</td>\n",
              "      <td>0.60</td>\n",
              "      <td>1.62</td>\n",
              "      <td>840.0</td>\n",
              "      <td>2</td>\n",
              "    </tr>\n",
              "    <tr>\n",
              "      <th>122</th>\n",
              "      <td>12.42</td>\n",
              "      <td>4.43</td>\n",
              "      <td>2.73</td>\n",
              "      <td>26.5</td>\n",
              "      <td>102.0</td>\n",
              "      <td>2.20</td>\n",
              "      <td>2.13</td>\n",
              "      <td>0.43</td>\n",
              "      <td>1.71</td>\n",
              "      <td>2.08</td>\n",
              "      <td>0.92</td>\n",
              "      <td>3.12</td>\n",
              "      <td>365.0</td>\n",
              "      <td>1</td>\n",
              "    </tr>\n",
              "    <tr>\n",
              "      <th>43</th>\n",
              "      <td>13.24</td>\n",
              "      <td>3.98</td>\n",
              "      <td>2.29</td>\n",
              "      <td>17.5</td>\n",
              "      <td>103.0</td>\n",
              "      <td>2.64</td>\n",
              "      <td>2.63</td>\n",
              "      <td>0.32</td>\n",
              "      <td>1.66</td>\n",
              "      <td>4.36</td>\n",
              "      <td>0.82</td>\n",
              "      <td>3.00</td>\n",
              "      <td>680.0</td>\n",
              "      <td>0</td>\n",
              "    </tr>\n",
              "    <tr>\n",
              "      <th>86</th>\n",
              "      <td>12.16</td>\n",
              "      <td>1.61</td>\n",
              "      <td>2.31</td>\n",
              "      <td>22.8</td>\n",
              "      <td>90.0</td>\n",
              "      <td>1.78</td>\n",
              "      <td>1.69</td>\n",
              "      <td>0.43</td>\n",
              "      <td>1.56</td>\n",
              "      <td>2.45</td>\n",
              "      <td>1.33</td>\n",
              "      <td>2.26</td>\n",
              "      <td>495.0</td>\n",
              "      <td>1</td>\n",
              "    </tr>\n",
              "    <tr>\n",
              "      <th>166</th>\n",
              "      <td>13.45</td>\n",
              "      <td>3.70</td>\n",
              "      <td>2.60</td>\n",
              "      <td>23.0</td>\n",
              "      <td>111.0</td>\n",
              "      <td>1.70</td>\n",
              "      <td>0.92</td>\n",
              "      <td>0.43</td>\n",
              "      <td>1.46</td>\n",
              "      <td>10.68</td>\n",
              "      <td>0.85</td>\n",
              "      <td>1.56</td>\n",
              "      <td>695.0</td>\n",
              "      <td>2</td>\n",
              "    </tr>\n",
              "    <tr>\n",
              "      <th>56</th>\n",
              "      <td>14.22</td>\n",
              "      <td>1.70</td>\n",
              "      <td>2.30</td>\n",
              "      <td>16.3</td>\n",
              "      <td>118.0</td>\n",
              "      <td>3.20</td>\n",
              "      <td>3.00</td>\n",
              "      <td>0.26</td>\n",
              "      <td>2.03</td>\n",
              "      <td>6.38</td>\n",
              "      <td>0.94</td>\n",
              "      <td>3.31</td>\n",
              "      <td>970.0</td>\n",
              "      <td>0</td>\n",
              "    </tr>\n",
              "    <tr>\n",
              "      <th>76</th>\n",
              "      <td>13.03</td>\n",
              "      <td>0.90</td>\n",
              "      <td>1.71</td>\n",
              "      <td>16.0</td>\n",
              "      <td>86.0</td>\n",
              "      <td>1.95</td>\n",
              "      <td>2.03</td>\n",
              "      <td>0.24</td>\n",
              "      <td>1.46</td>\n",
              "      <td>4.60</td>\n",
              "      <td>1.19</td>\n",
              "      <td>2.48</td>\n",
              "      <td>392.0</td>\n",
              "      <td>1</td>\n",
              "    </tr>\n",
              "  </tbody>\n",
              "</table>\n",
              "</div>"
            ],
            "text/plain": [
              "     alcohol  malic_acid   ash  ...  od280/od315_of_diluted_wines  proline  species\n",
              "92     12.69        1.53  2.26  ...                          2.06    495.0        1\n",
              "98     12.37        1.07  2.10  ...                          2.77    660.0        1\n",
              "74     11.96        1.09  2.30  ...                          3.13    886.0        1\n",
              "176    13.17        2.59  2.37  ...                          1.62    840.0        2\n",
              "122    12.42        4.43  2.73  ...                          3.12    365.0        1\n",
              "43     13.24        3.98  2.29  ...                          3.00    680.0        0\n",
              "86     12.16        1.61  2.31  ...                          2.26    495.0        1\n",
              "166    13.45        3.70  2.60  ...                          1.56    695.0        2\n",
              "56     14.22        1.70  2.30  ...                          3.31    970.0        0\n",
              "76     13.03        0.90  1.71  ...                          2.48    392.0        1\n",
              "\n",
              "[10 rows x 14 columns]"
            ]
          },
          "metadata": {
            "tags": []
          },
          "execution_count": 4
        }
      ]
    },
    {
      "cell_type": "code",
      "metadata": {
        "colab": {
          "base_uri": "https://localhost:8080/",
          "height": 311
        },
        "id": "v4zOUeQ9ckqY",
        "outputId": "bf6365c8-4041-4d1e-fa43-c95f6bc0f586"
      },
      "source": [
        "wine_df.describe()"
      ],
      "execution_count": 5,
      "outputs": [
        {
          "output_type": "execute_result",
          "data": {
            "text/html": [
              "<div>\n",
              "<style scoped>\n",
              "    .dataframe tbody tr th:only-of-type {\n",
              "        vertical-align: middle;\n",
              "    }\n",
              "\n",
              "    .dataframe tbody tr th {\n",
              "        vertical-align: top;\n",
              "    }\n",
              "\n",
              "    .dataframe thead th {\n",
              "        text-align: right;\n",
              "    }\n",
              "</style>\n",
              "<table border=\"1\" class=\"dataframe\">\n",
              "  <thead>\n",
              "    <tr style=\"text-align: right;\">\n",
              "      <th></th>\n",
              "      <th>alcohol</th>\n",
              "      <th>malic_acid</th>\n",
              "      <th>ash</th>\n",
              "      <th>alcalinity_of_ash</th>\n",
              "      <th>magnesium</th>\n",
              "      <th>total_phenols</th>\n",
              "      <th>flavanoids</th>\n",
              "      <th>nonflavanoid_phenols</th>\n",
              "      <th>proanthocyanins</th>\n",
              "      <th>color_intensity</th>\n",
              "      <th>hue</th>\n",
              "      <th>od280/od315_of_diluted_wines</th>\n",
              "      <th>proline</th>\n",
              "      <th>species</th>\n",
              "    </tr>\n",
              "  </thead>\n",
              "  <tbody>\n",
              "    <tr>\n",
              "      <th>count</th>\n",
              "      <td>178.000000</td>\n",
              "      <td>178.000000</td>\n",
              "      <td>178.000000</td>\n",
              "      <td>178.000000</td>\n",
              "      <td>178.000000</td>\n",
              "      <td>178.000000</td>\n",
              "      <td>178.000000</td>\n",
              "      <td>178.000000</td>\n",
              "      <td>178.000000</td>\n",
              "      <td>178.000000</td>\n",
              "      <td>178.000000</td>\n",
              "      <td>178.000000</td>\n",
              "      <td>178.000000</td>\n",
              "      <td>178.000000</td>\n",
              "    </tr>\n",
              "    <tr>\n",
              "      <th>mean</th>\n",
              "      <td>13.000618</td>\n",
              "      <td>2.336348</td>\n",
              "      <td>2.366517</td>\n",
              "      <td>19.494944</td>\n",
              "      <td>99.741573</td>\n",
              "      <td>2.295112</td>\n",
              "      <td>2.029270</td>\n",
              "      <td>0.361854</td>\n",
              "      <td>1.590899</td>\n",
              "      <td>5.058090</td>\n",
              "      <td>0.957449</td>\n",
              "      <td>2.611685</td>\n",
              "      <td>746.893258</td>\n",
              "      <td>0.938202</td>\n",
              "    </tr>\n",
              "    <tr>\n",
              "      <th>std</th>\n",
              "      <td>0.811827</td>\n",
              "      <td>1.117146</td>\n",
              "      <td>0.274344</td>\n",
              "      <td>3.339564</td>\n",
              "      <td>14.282484</td>\n",
              "      <td>0.625851</td>\n",
              "      <td>0.998859</td>\n",
              "      <td>0.124453</td>\n",
              "      <td>0.572359</td>\n",
              "      <td>2.318286</td>\n",
              "      <td>0.228572</td>\n",
              "      <td>0.709990</td>\n",
              "      <td>314.907474</td>\n",
              "      <td>0.775035</td>\n",
              "    </tr>\n",
              "    <tr>\n",
              "      <th>min</th>\n",
              "      <td>11.030000</td>\n",
              "      <td>0.740000</td>\n",
              "      <td>1.360000</td>\n",
              "      <td>10.600000</td>\n",
              "      <td>70.000000</td>\n",
              "      <td>0.980000</td>\n",
              "      <td>0.340000</td>\n",
              "      <td>0.130000</td>\n",
              "      <td>0.410000</td>\n",
              "      <td>1.280000</td>\n",
              "      <td>0.480000</td>\n",
              "      <td>1.270000</td>\n",
              "      <td>278.000000</td>\n",
              "      <td>0.000000</td>\n",
              "    </tr>\n",
              "    <tr>\n",
              "      <th>25%</th>\n",
              "      <td>12.362500</td>\n",
              "      <td>1.602500</td>\n",
              "      <td>2.210000</td>\n",
              "      <td>17.200000</td>\n",
              "      <td>88.000000</td>\n",
              "      <td>1.742500</td>\n",
              "      <td>1.205000</td>\n",
              "      <td>0.270000</td>\n",
              "      <td>1.250000</td>\n",
              "      <td>3.220000</td>\n",
              "      <td>0.782500</td>\n",
              "      <td>1.937500</td>\n",
              "      <td>500.500000</td>\n",
              "      <td>0.000000</td>\n",
              "    </tr>\n",
              "    <tr>\n",
              "      <th>50%</th>\n",
              "      <td>13.050000</td>\n",
              "      <td>1.865000</td>\n",
              "      <td>2.360000</td>\n",
              "      <td>19.500000</td>\n",
              "      <td>98.000000</td>\n",
              "      <td>2.355000</td>\n",
              "      <td>2.135000</td>\n",
              "      <td>0.340000</td>\n",
              "      <td>1.555000</td>\n",
              "      <td>4.690000</td>\n",
              "      <td>0.965000</td>\n",
              "      <td>2.780000</td>\n",
              "      <td>673.500000</td>\n",
              "      <td>1.000000</td>\n",
              "    </tr>\n",
              "    <tr>\n",
              "      <th>75%</th>\n",
              "      <td>13.677500</td>\n",
              "      <td>3.082500</td>\n",
              "      <td>2.557500</td>\n",
              "      <td>21.500000</td>\n",
              "      <td>107.000000</td>\n",
              "      <td>2.800000</td>\n",
              "      <td>2.875000</td>\n",
              "      <td>0.437500</td>\n",
              "      <td>1.950000</td>\n",
              "      <td>6.200000</td>\n",
              "      <td>1.120000</td>\n",
              "      <td>3.170000</td>\n",
              "      <td>985.000000</td>\n",
              "      <td>2.000000</td>\n",
              "    </tr>\n",
              "    <tr>\n",
              "      <th>max</th>\n",
              "      <td>14.830000</td>\n",
              "      <td>5.800000</td>\n",
              "      <td>3.230000</td>\n",
              "      <td>30.000000</td>\n",
              "      <td>162.000000</td>\n",
              "      <td>3.880000</td>\n",
              "      <td>5.080000</td>\n",
              "      <td>0.660000</td>\n",
              "      <td>3.580000</td>\n",
              "      <td>13.000000</td>\n",
              "      <td>1.710000</td>\n",
              "      <td>4.000000</td>\n",
              "      <td>1680.000000</td>\n",
              "      <td>2.000000</td>\n",
              "    </tr>\n",
              "  </tbody>\n",
              "</table>\n",
              "</div>"
            ],
            "text/plain": [
              "          alcohol  malic_acid  ...      proline     species\n",
              "count  178.000000  178.000000  ...   178.000000  178.000000\n",
              "mean    13.000618    2.336348  ...   746.893258    0.938202\n",
              "std      0.811827    1.117146  ...   314.907474    0.775035\n",
              "min     11.030000    0.740000  ...   278.000000    0.000000\n",
              "25%     12.362500    1.602500  ...   500.500000    0.000000\n",
              "50%     13.050000    1.865000  ...   673.500000    1.000000\n",
              "75%     13.677500    3.082500  ...   985.000000    2.000000\n",
              "max     14.830000    5.800000  ...  1680.000000    2.000000\n",
              "\n",
              "[8 rows x 14 columns]"
            ]
          },
          "metadata": {
            "tags": []
          },
          "execution_count": 5
        }
      ]
    },
    {
      "cell_type": "code",
      "metadata": {
        "colab": {
          "base_uri": "https://localhost:8080/",
          "height": 190
        },
        "id": "R5_aCClgcpnN",
        "outputId": "ece3ca4d-33af-4987-f945-41c5f30f03ce"
      },
      "source": [
        "wine_df.groupby(TARGET).agg('count')"
      ],
      "execution_count": 6,
      "outputs": [
        {
          "output_type": "execute_result",
          "data": {
            "text/html": [
              "<div>\n",
              "<style scoped>\n",
              "    .dataframe tbody tr th:only-of-type {\n",
              "        vertical-align: middle;\n",
              "    }\n",
              "\n",
              "    .dataframe tbody tr th {\n",
              "        vertical-align: top;\n",
              "    }\n",
              "\n",
              "    .dataframe thead th {\n",
              "        text-align: right;\n",
              "    }\n",
              "</style>\n",
              "<table border=\"1\" class=\"dataframe\">\n",
              "  <thead>\n",
              "    <tr style=\"text-align: right;\">\n",
              "      <th></th>\n",
              "      <th>alcohol</th>\n",
              "      <th>malic_acid</th>\n",
              "      <th>ash</th>\n",
              "      <th>alcalinity_of_ash</th>\n",
              "      <th>magnesium</th>\n",
              "      <th>total_phenols</th>\n",
              "      <th>flavanoids</th>\n",
              "      <th>nonflavanoid_phenols</th>\n",
              "      <th>proanthocyanins</th>\n",
              "      <th>color_intensity</th>\n",
              "      <th>hue</th>\n",
              "      <th>od280/od315_of_diluted_wines</th>\n",
              "      <th>proline</th>\n",
              "    </tr>\n",
              "    <tr>\n",
              "      <th>species</th>\n",
              "      <th></th>\n",
              "      <th></th>\n",
              "      <th></th>\n",
              "      <th></th>\n",
              "      <th></th>\n",
              "      <th></th>\n",
              "      <th></th>\n",
              "      <th></th>\n",
              "      <th></th>\n",
              "      <th></th>\n",
              "      <th></th>\n",
              "      <th></th>\n",
              "      <th></th>\n",
              "    </tr>\n",
              "  </thead>\n",
              "  <tbody>\n",
              "    <tr>\n",
              "      <th>0</th>\n",
              "      <td>59</td>\n",
              "      <td>59</td>\n",
              "      <td>59</td>\n",
              "      <td>59</td>\n",
              "      <td>59</td>\n",
              "      <td>59</td>\n",
              "      <td>59</td>\n",
              "      <td>59</td>\n",
              "      <td>59</td>\n",
              "      <td>59</td>\n",
              "      <td>59</td>\n",
              "      <td>59</td>\n",
              "      <td>59</td>\n",
              "    </tr>\n",
              "    <tr>\n",
              "      <th>1</th>\n",
              "      <td>71</td>\n",
              "      <td>71</td>\n",
              "      <td>71</td>\n",
              "      <td>71</td>\n",
              "      <td>71</td>\n",
              "      <td>71</td>\n",
              "      <td>71</td>\n",
              "      <td>71</td>\n",
              "      <td>71</td>\n",
              "      <td>71</td>\n",
              "      <td>71</td>\n",
              "      <td>71</td>\n",
              "      <td>71</td>\n",
              "    </tr>\n",
              "    <tr>\n",
              "      <th>2</th>\n",
              "      <td>48</td>\n",
              "      <td>48</td>\n",
              "      <td>48</td>\n",
              "      <td>48</td>\n",
              "      <td>48</td>\n",
              "      <td>48</td>\n",
              "      <td>48</td>\n",
              "      <td>48</td>\n",
              "      <td>48</td>\n",
              "      <td>48</td>\n",
              "      <td>48</td>\n",
              "      <td>48</td>\n",
              "      <td>48</td>\n",
              "    </tr>\n",
              "  </tbody>\n",
              "</table>\n",
              "</div>"
            ],
            "text/plain": [
              "         alcohol  malic_acid  ash  ...  hue  od280/od315_of_diluted_wines  proline\n",
              "species                            ...                                            \n",
              "0             59          59   59  ...   59                            59       59\n",
              "1             71          71   71  ...   71                            71       71\n",
              "2             48          48   48  ...   48                            48       48\n",
              "\n",
              "[3 rows x 13 columns]"
            ]
          },
          "metadata": {
            "tags": []
          },
          "execution_count": 6
        }
      ]
    },
    {
      "cell_type": "code",
      "metadata": {
        "colab": {
          "base_uri": "https://localhost:8080/"
        },
        "id": "iHWv_DEFc5jI",
        "outputId": "3f0a2341-a651-479d-e9c5-5996c0267347"
      },
      "source": [
        "from sklearn.model_selection import train_test_split\n",
        "\n",
        "X_train, X_test, y_train, y_test = train_test_split(\n",
        "    wine_df[FEATURES],\n",
        "    wine_df[TARGET],\n",
        "    test_size=0.1,\n",
        "    random_state=45)\n",
        "\n",
        "y_train.groupby(y_train).count()"
      ],
      "execution_count": 7,
      "outputs": [
        {
          "output_type": "execute_result",
          "data": {
            "text/plain": [
              "species\n",
              "0    54\n",
              "1    62\n",
              "2    44\n",
              "Name: species, dtype: int64"
            ]
          },
          "metadata": {
            "tags": []
          },
          "execution_count": 7
        }
      ]
    },
    {
      "cell_type": "code",
      "metadata": {
        "colab": {
          "base_uri": "https://localhost:8080/"
        },
        "id": "Lm4z-EG1c-ym",
        "outputId": "937d92ba-6aff-444c-cea6-81a4fc953f0d"
      },
      "source": [
        "y_test.groupby(y_test).count()"
      ],
      "execution_count": 8,
      "outputs": [
        {
          "output_type": "execute_result",
          "data": {
            "text/plain": [
              "species\n",
              "0    5\n",
              "1    9\n",
              "2    4\n",
              "Name: species, dtype: int64"
            ]
          },
          "metadata": {
            "tags": []
          },
          "execution_count": 8
        }
      ]
    },
    {
      "cell_type": "code",
      "metadata": {
        "colab": {
          "base_uri": "https://localhost:8080/"
        },
        "id": "hX3ze6w3dDVN",
        "outputId": "c2ea8529-ecec-41c4-bb31-3e3145b1b31b"
      },
      "source": [
        "X_train, X_test, y_train, y_test = train_test_split(\n",
        "    wine_df[FEATURES],\n",
        "    wine_df[TARGET],\n",
        "    test_size=0.2,\n",
        "    stratify=wine_df[TARGET])\n",
        "\n",
        "print(y_train.groupby(y_train).count())\n",
        "print(y_test.groupby(y_test).count())"
      ],
      "execution_count": 9,
      "outputs": [
        {
          "output_type": "stream",
          "text": [
            "species\n",
            "0    47\n",
            "1    57\n",
            "2    38\n",
            "Name: species, dtype: int64\n",
            "species\n",
            "0    12\n",
            "1    14\n",
            "2    10\n",
            "Name: species, dtype: int64\n"
          ],
          "name": "stdout"
        }
      ]
    },
    {
      "cell_type": "code",
      "metadata": {
        "colab": {
          "base_uri": "https://localhost:8080/"
        },
        "id": "Nzf50YZ6dMEW",
        "outputId": "9d8ecc7e-bfab-4773-e44b-ebabff9e9668"
      },
      "source": [
        "from sklearn.linear_model import SGDClassifier\n",
        "from sklearn.model_selection import cross_val_score\n",
        "\n",
        "estimator = SGDClassifier()\n",
        "\n",
        "scores = cross_val_score(\n",
        "    estimator,\n",
        "    X_train,\n",
        "    y_train,\n",
        "    cv=5\n",
        ")\n",
        "\n",
        "scores"
      ],
      "execution_count": 10,
      "outputs": [
        {
          "output_type": "execute_result",
          "data": {
            "text/plain": [
              "array([0.55172414, 0.5862069 , 0.60714286, 0.71428571, 0.71428571])"
            ]
          },
          "metadata": {
            "tags": []
          },
          "execution_count": 10
        }
      ]
    },
    {
      "cell_type": "code",
      "metadata": {
        "colab": {
          "base_uri": "https://localhost:8080/"
        },
        "id": "cgTDgn_1dO8G",
        "outputId": "1780bb0b-640a-4c8f-e54f-13eaefcd1d83"
      },
      "source": [
        "scores.mean()"
      ],
      "execution_count": 11,
      "outputs": [
        {
          "output_type": "execute_result",
          "data": {
            "text/plain": [
              "0.6347290640394089"
            ]
          },
          "metadata": {
            "tags": []
          },
          "execution_count": 11
        }
      ]
    },
    {
      "cell_type": "code",
      "metadata": {
        "colab": {
          "base_uri": "https://localhost:8080/"
        },
        "id": "z0UJRPwxdUAL",
        "outputId": "0275819c-14f7-49db-82af-aae860223cc8"
      },
      "source": [
        "import pandas as pd\n",
        "\n",
        "from sklearn import datasets\n",
        "from sklearn.linear_model import SGDClassifier\n",
        "from sklearn.metrics import make_scorer\n",
        "from sklearn.metrics import f1_score\n",
        "from sklearn.model_selection import cross_val_score\n",
        "from sklearn.model_selection import train_test_split\n",
        "\n",
        "wine_bunch = datasets.load_wine()\n",
        "wine_bunch.keys()\n",
        "\n",
        "FEATURES = wine_bunch['feature_names']\n",
        "TARGET = 'species'\n",
        "\n",
        "wine_df = pd.DataFrame(wine_bunch['data'], columns=FEATURES)\n",
        "wine_df[TARGET] = wine_bunch['target']\n",
        "\n",
        "X_train, X_test, y_train, y_test = train_test_split(\n",
        "    wine_df[FEATURES],\n",
        "    wine_df[TARGET], \n",
        "    test_size=0.1,\n",
        "    stratify=wine_df[TARGET])\n",
        "\n",
        "# Solution Starts Here\n",
        "\n",
        "estimator = SGDClassifier()\n",
        "\n",
        "scores = cross_val_score(\n",
        "    estimator,\n",
        "    X_train[FEATURES],\n",
        "    y_train,\n",
        "    cv=5,\n",
        "    scoring=make_scorer(f1_score, average='micro')\n",
        ")\n",
        "\n",
        "\n",
        "scores.mean()"
      ],
      "execution_count": 12,
      "outputs": [
        {
          "output_type": "execute_result",
          "data": {
            "text/plain": [
              "0.6125"
            ]
          },
          "metadata": {
            "tags": []
          },
          "execution_count": 12
        }
      ]
    },
    {
      "cell_type": "code",
      "metadata": {
        "id": "IECpy_vZdX1V"
      },
      "source": [
        "X_validation = X_test\n",
        "y_validation = y_test"
      ],
      "execution_count": 13,
      "outputs": []
    },
    {
      "cell_type": "code",
      "metadata": {
        "colab": {
          "base_uri": "https://localhost:8080/",
          "height": 311
        },
        "id": "kSRZFKELdbYQ",
        "outputId": "f44719bc-434a-4faf-e002-4c84f5e1e115"
      },
      "source": [
        "wine_df[FEATURES].describe()"
      ],
      "execution_count": 14,
      "outputs": [
        {
          "output_type": "execute_result",
          "data": {
            "text/html": [
              "<div>\n",
              "<style scoped>\n",
              "    .dataframe tbody tr th:only-of-type {\n",
              "        vertical-align: middle;\n",
              "    }\n",
              "\n",
              "    .dataframe tbody tr th {\n",
              "        vertical-align: top;\n",
              "    }\n",
              "\n",
              "    .dataframe thead th {\n",
              "        text-align: right;\n",
              "    }\n",
              "</style>\n",
              "<table border=\"1\" class=\"dataframe\">\n",
              "  <thead>\n",
              "    <tr style=\"text-align: right;\">\n",
              "      <th></th>\n",
              "      <th>alcohol</th>\n",
              "      <th>malic_acid</th>\n",
              "      <th>ash</th>\n",
              "      <th>alcalinity_of_ash</th>\n",
              "      <th>magnesium</th>\n",
              "      <th>total_phenols</th>\n",
              "      <th>flavanoids</th>\n",
              "      <th>nonflavanoid_phenols</th>\n",
              "      <th>proanthocyanins</th>\n",
              "      <th>color_intensity</th>\n",
              "      <th>hue</th>\n",
              "      <th>od280/od315_of_diluted_wines</th>\n",
              "      <th>proline</th>\n",
              "    </tr>\n",
              "  </thead>\n",
              "  <tbody>\n",
              "    <tr>\n",
              "      <th>count</th>\n",
              "      <td>178.000000</td>\n",
              "      <td>178.000000</td>\n",
              "      <td>178.000000</td>\n",
              "      <td>178.000000</td>\n",
              "      <td>178.000000</td>\n",
              "      <td>178.000000</td>\n",
              "      <td>178.000000</td>\n",
              "      <td>178.000000</td>\n",
              "      <td>178.000000</td>\n",
              "      <td>178.000000</td>\n",
              "      <td>178.000000</td>\n",
              "      <td>178.000000</td>\n",
              "      <td>178.000000</td>\n",
              "    </tr>\n",
              "    <tr>\n",
              "      <th>mean</th>\n",
              "      <td>13.000618</td>\n",
              "      <td>2.336348</td>\n",
              "      <td>2.366517</td>\n",
              "      <td>19.494944</td>\n",
              "      <td>99.741573</td>\n",
              "      <td>2.295112</td>\n",
              "      <td>2.029270</td>\n",
              "      <td>0.361854</td>\n",
              "      <td>1.590899</td>\n",
              "      <td>5.058090</td>\n",
              "      <td>0.957449</td>\n",
              "      <td>2.611685</td>\n",
              "      <td>746.893258</td>\n",
              "    </tr>\n",
              "    <tr>\n",
              "      <th>std</th>\n",
              "      <td>0.811827</td>\n",
              "      <td>1.117146</td>\n",
              "      <td>0.274344</td>\n",
              "      <td>3.339564</td>\n",
              "      <td>14.282484</td>\n",
              "      <td>0.625851</td>\n",
              "      <td>0.998859</td>\n",
              "      <td>0.124453</td>\n",
              "      <td>0.572359</td>\n",
              "      <td>2.318286</td>\n",
              "      <td>0.228572</td>\n",
              "      <td>0.709990</td>\n",
              "      <td>314.907474</td>\n",
              "    </tr>\n",
              "    <tr>\n",
              "      <th>min</th>\n",
              "      <td>11.030000</td>\n",
              "      <td>0.740000</td>\n",
              "      <td>1.360000</td>\n",
              "      <td>10.600000</td>\n",
              "      <td>70.000000</td>\n",
              "      <td>0.980000</td>\n",
              "      <td>0.340000</td>\n",
              "      <td>0.130000</td>\n",
              "      <td>0.410000</td>\n",
              "      <td>1.280000</td>\n",
              "      <td>0.480000</td>\n",
              "      <td>1.270000</td>\n",
              "      <td>278.000000</td>\n",
              "    </tr>\n",
              "    <tr>\n",
              "      <th>25%</th>\n",
              "      <td>12.362500</td>\n",
              "      <td>1.602500</td>\n",
              "      <td>2.210000</td>\n",
              "      <td>17.200000</td>\n",
              "      <td>88.000000</td>\n",
              "      <td>1.742500</td>\n",
              "      <td>1.205000</td>\n",
              "      <td>0.270000</td>\n",
              "      <td>1.250000</td>\n",
              "      <td>3.220000</td>\n",
              "      <td>0.782500</td>\n",
              "      <td>1.937500</td>\n",
              "      <td>500.500000</td>\n",
              "    </tr>\n",
              "    <tr>\n",
              "      <th>50%</th>\n",
              "      <td>13.050000</td>\n",
              "      <td>1.865000</td>\n",
              "      <td>2.360000</td>\n",
              "      <td>19.500000</td>\n",
              "      <td>98.000000</td>\n",
              "      <td>2.355000</td>\n",
              "      <td>2.135000</td>\n",
              "      <td>0.340000</td>\n",
              "      <td>1.555000</td>\n",
              "      <td>4.690000</td>\n",
              "      <td>0.965000</td>\n",
              "      <td>2.780000</td>\n",
              "      <td>673.500000</td>\n",
              "    </tr>\n",
              "    <tr>\n",
              "      <th>75%</th>\n",
              "      <td>13.677500</td>\n",
              "      <td>3.082500</td>\n",
              "      <td>2.557500</td>\n",
              "      <td>21.500000</td>\n",
              "      <td>107.000000</td>\n",
              "      <td>2.800000</td>\n",
              "      <td>2.875000</td>\n",
              "      <td>0.437500</td>\n",
              "      <td>1.950000</td>\n",
              "      <td>6.200000</td>\n",
              "      <td>1.120000</td>\n",
              "      <td>3.170000</td>\n",
              "      <td>985.000000</td>\n",
              "    </tr>\n",
              "    <tr>\n",
              "      <th>max</th>\n",
              "      <td>14.830000</td>\n",
              "      <td>5.800000</td>\n",
              "      <td>3.230000</td>\n",
              "      <td>30.000000</td>\n",
              "      <td>162.000000</td>\n",
              "      <td>3.880000</td>\n",
              "      <td>5.080000</td>\n",
              "      <td>0.660000</td>\n",
              "      <td>3.580000</td>\n",
              "      <td>13.000000</td>\n",
              "      <td>1.710000</td>\n",
              "      <td>4.000000</td>\n",
              "      <td>1680.000000</td>\n",
              "    </tr>\n",
              "  </tbody>\n",
              "</table>\n",
              "</div>"
            ],
            "text/plain": [
              "          alcohol  malic_acid  ...  od280/od315_of_diluted_wines      proline\n",
              "count  178.000000  178.000000  ...                    178.000000   178.000000\n",
              "mean    13.000618    2.336348  ...                      2.611685   746.893258\n",
              "std      0.811827    1.117146  ...                      0.709990   314.907474\n",
              "min     11.030000    0.740000  ...                      1.270000   278.000000\n",
              "25%     12.362500    1.602500  ...                      1.937500   500.500000\n",
              "50%     13.050000    1.865000  ...                      2.780000   673.500000\n",
              "75%     13.677500    3.082500  ...                      3.170000   985.000000\n",
              "max     14.830000    5.800000  ...                      4.000000  1680.000000\n",
              "\n",
              "[8 rows x 13 columns]"
            ]
          },
          "metadata": {
            "tags": []
          },
          "execution_count": 14
        }
      ]
    },
    {
      "cell_type": "code",
      "metadata": {
        "colab": {
          "base_uri": "https://localhost:8080/",
          "height": 311
        },
        "id": "6u1lk89CddBS",
        "outputId": "70f264cb-a708-4b4c-ac8e-5256bb905860"
      },
      "source": [
        "from sklearn.preprocessing import StandardScaler\n",
        "\n",
        "scaler = StandardScaler()\n",
        "\n",
        "scaler.fit(wine_df[FEATURES])\n",
        "\n",
        "pd.DataFrame(\n",
        "    scaler.transform(wine_df[FEATURES]),\n",
        "    columns=FEATURES\n",
        ").describe()"
      ],
      "execution_count": 15,
      "outputs": [
        {
          "output_type": "execute_result",
          "data": {
            "text/html": [
              "<div>\n",
              "<style scoped>\n",
              "    .dataframe tbody tr th:only-of-type {\n",
              "        vertical-align: middle;\n",
              "    }\n",
              "\n",
              "    .dataframe tbody tr th {\n",
              "        vertical-align: top;\n",
              "    }\n",
              "\n",
              "    .dataframe thead th {\n",
              "        text-align: right;\n",
              "    }\n",
              "</style>\n",
              "<table border=\"1\" class=\"dataframe\">\n",
              "  <thead>\n",
              "    <tr style=\"text-align: right;\">\n",
              "      <th></th>\n",
              "      <th>alcohol</th>\n",
              "      <th>malic_acid</th>\n",
              "      <th>ash</th>\n",
              "      <th>alcalinity_of_ash</th>\n",
              "      <th>magnesium</th>\n",
              "      <th>total_phenols</th>\n",
              "      <th>flavanoids</th>\n",
              "      <th>nonflavanoid_phenols</th>\n",
              "      <th>proanthocyanins</th>\n",
              "      <th>color_intensity</th>\n",
              "      <th>hue</th>\n",
              "      <th>od280/od315_of_diluted_wines</th>\n",
              "      <th>proline</th>\n",
              "    </tr>\n",
              "  </thead>\n",
              "  <tbody>\n",
              "    <tr>\n",
              "      <th>count</th>\n",
              "      <td>1.780000e+02</td>\n",
              "      <td>1.780000e+02</td>\n",
              "      <td>1.780000e+02</td>\n",
              "      <td>1.780000e+02</td>\n",
              "      <td>1.780000e+02</td>\n",
              "      <td>1.780000e+02</td>\n",
              "      <td>1.780000e+02</td>\n",
              "      <td>1.780000e+02</td>\n",
              "      <td>1.780000e+02</td>\n",
              "      <td>1.780000e+02</td>\n",
              "      <td>1.780000e+02</td>\n",
              "      <td>1.780000e+02</td>\n",
              "      <td>1.780000e+02</td>\n",
              "    </tr>\n",
              "    <tr>\n",
              "      <th>mean</th>\n",
              "      <td>7.841418e-15</td>\n",
              "      <td>2.444986e-16</td>\n",
              "      <td>-4.059175e-15</td>\n",
              "      <td>-7.110417e-17</td>\n",
              "      <td>-2.494883e-17</td>\n",
              "      <td>-1.955365e-16</td>\n",
              "      <td>9.443133e-16</td>\n",
              "      <td>-4.178929e-16</td>\n",
              "      <td>-1.540590e-15</td>\n",
              "      <td>-4.129032e-16</td>\n",
              "      <td>1.398382e-15</td>\n",
              "      <td>2.126888e-15</td>\n",
              "      <td>-6.985673e-17</td>\n",
              "    </tr>\n",
              "    <tr>\n",
              "      <th>std</th>\n",
              "      <td>1.002821e+00</td>\n",
              "      <td>1.002821e+00</td>\n",
              "      <td>1.002821e+00</td>\n",
              "      <td>1.002821e+00</td>\n",
              "      <td>1.002821e+00</td>\n",
              "      <td>1.002821e+00</td>\n",
              "      <td>1.002821e+00</td>\n",
              "      <td>1.002821e+00</td>\n",
              "      <td>1.002821e+00</td>\n",
              "      <td>1.002821e+00</td>\n",
              "      <td>1.002821e+00</td>\n",
              "      <td>1.002821e+00</td>\n",
              "      <td>1.002821e+00</td>\n",
              "    </tr>\n",
              "    <tr>\n",
              "      <th>min</th>\n",
              "      <td>-2.434235e+00</td>\n",
              "      <td>-1.432983e+00</td>\n",
              "      <td>-3.679162e+00</td>\n",
              "      <td>-2.671018e+00</td>\n",
              "      <td>-2.088255e+00</td>\n",
              "      <td>-2.107246e+00</td>\n",
              "      <td>-1.695971e+00</td>\n",
              "      <td>-1.868234e+00</td>\n",
              "      <td>-2.069034e+00</td>\n",
              "      <td>-1.634288e+00</td>\n",
              "      <td>-2.094732e+00</td>\n",
              "      <td>-1.895054e+00</td>\n",
              "      <td>-1.493188e+00</td>\n",
              "    </tr>\n",
              "    <tr>\n",
              "      <th>25%</th>\n",
              "      <td>-7.882448e-01</td>\n",
              "      <td>-6.587486e-01</td>\n",
              "      <td>-5.721225e-01</td>\n",
              "      <td>-6.891372e-01</td>\n",
              "      <td>-8.244151e-01</td>\n",
              "      <td>-8.854682e-01</td>\n",
              "      <td>-8.275393e-01</td>\n",
              "      <td>-7.401412e-01</td>\n",
              "      <td>-5.972835e-01</td>\n",
              "      <td>-7.951025e-01</td>\n",
              "      <td>-7.675624e-01</td>\n",
              "      <td>-9.522483e-01</td>\n",
              "      <td>-7.846378e-01</td>\n",
              "    </tr>\n",
              "    <tr>\n",
              "      <th>50%</th>\n",
              "      <td>6.099988e-02</td>\n",
              "      <td>-4.231120e-01</td>\n",
              "      <td>-2.382132e-02</td>\n",
              "      <td>1.518295e-03</td>\n",
              "      <td>-1.222817e-01</td>\n",
              "      <td>9.595986e-02</td>\n",
              "      <td>1.061497e-01</td>\n",
              "      <td>-1.760948e-01</td>\n",
              "      <td>-6.289785e-02</td>\n",
              "      <td>-1.592246e-01</td>\n",
              "      <td>3.312687e-02</td>\n",
              "      <td>2.377348e-01</td>\n",
              "      <td>-2.337204e-01</td>\n",
              "    </tr>\n",
              "    <tr>\n",
              "      <th>75%</th>\n",
              "      <td>8.361286e-01</td>\n",
              "      <td>6.697929e-01</td>\n",
              "      <td>6.981085e-01</td>\n",
              "      <td>6.020883e-01</td>\n",
              "      <td>5.096384e-01</td>\n",
              "      <td>8.089974e-01</td>\n",
              "      <td>8.490851e-01</td>\n",
              "      <td>6.095413e-01</td>\n",
              "      <td>6.291754e-01</td>\n",
              "      <td>4.939560e-01</td>\n",
              "      <td>7.131644e-01</td>\n",
              "      <td>7.885875e-01</td>\n",
              "      <td>7.582494e-01</td>\n",
              "    </tr>\n",
              "    <tr>\n",
              "      <th>max</th>\n",
              "      <td>2.259772e+00</td>\n",
              "      <td>3.109192e+00</td>\n",
              "      <td>3.156325e+00</td>\n",
              "      <td>3.154511e+00</td>\n",
              "      <td>4.371372e+00</td>\n",
              "      <td>2.539515e+00</td>\n",
              "      <td>3.062832e+00</td>\n",
              "      <td>2.402403e+00</td>\n",
              "      <td>3.485073e+00</td>\n",
              "      <td>3.435432e+00</td>\n",
              "      <td>3.301694e+00</td>\n",
              "      <td>1.960915e+00</td>\n",
              "      <td>2.971473e+00</td>\n",
              "    </tr>\n",
              "  </tbody>\n",
              "</table>\n",
              "</div>"
            ],
            "text/plain": [
              "            alcohol    malic_acid  ...  od280/od315_of_diluted_wines       proline\n",
              "count  1.780000e+02  1.780000e+02  ...                  1.780000e+02  1.780000e+02\n",
              "mean   7.841418e-15  2.444986e-16  ...                  2.126888e-15 -6.985673e-17\n",
              "std    1.002821e+00  1.002821e+00  ...                  1.002821e+00  1.002821e+00\n",
              "min   -2.434235e+00 -1.432983e+00  ...                 -1.895054e+00 -1.493188e+00\n",
              "25%   -7.882448e-01 -6.587486e-01  ...                 -9.522483e-01 -7.846378e-01\n",
              "50%    6.099988e-02 -4.231120e-01  ...                  2.377348e-01 -2.337204e-01\n",
              "75%    8.361286e-01  6.697929e-01  ...                  7.885875e-01  7.582494e-01\n",
              "max    2.259772e+00  3.109192e+00  ...                  1.960915e+00  2.971473e+00\n",
              "\n",
              "[8 rows x 13 columns]"
            ]
          },
          "metadata": {
            "tags": []
          },
          "execution_count": 15
        }
      ]
    },
    {
      "cell_type": "code",
      "metadata": {
        "colab": {
          "base_uri": "https://localhost:8080/"
        },
        "id": "ls5EkXGVdjsR",
        "outputId": "137ad099-e4e8-49f8-f8e2-5b7b9679e25a"
      },
      "source": [
        "from sklearn.pipeline import Pipeline\n",
        "\n",
        "estimator = Pipeline(\n",
        "  steps=[\n",
        "    ['scale', StandardScaler()],\n",
        "    ['classifier', SGDClassifier()],\n",
        "  ]\n",
        ")\n",
        "\n",
        "scores = cross_val_score(\n",
        "    estimator,\n",
        "    X_train[FEATURES],\n",
        "    y_train,\n",
        "    cv=5,\n",
        ")\n",
        "\n",
        "scores"
      ],
      "execution_count": 16,
      "outputs": [
        {
          "output_type": "execute_result",
          "data": {
            "text/plain": [
              "array([1.     , 0.96875, 0.9375 , 1.     , 0.96875])"
            ]
          },
          "metadata": {
            "tags": []
          },
          "execution_count": 16
        }
      ]
    },
    {
      "cell_type": "code",
      "metadata": {
        "colab": {
          "base_uri": "https://localhost:8080/"
        },
        "id": "V4S4J65vg6iT",
        "outputId": "61cbd11b-d15a-4248-9e9c-d814f235cc6b"
      },
      "source": [
        "scores.mean()"
      ],
      "execution_count": 17,
      "outputs": [
        {
          "output_type": "execute_result",
          "data": {
            "text/plain": [
              "0.975"
            ]
          },
          "metadata": {
            "tags": []
          },
          "execution_count": 17
        }
      ]
    },
    {
      "cell_type": "code",
      "metadata": {
        "colab": {
          "base_uri": "https://localhost:8080/"
        },
        "id": "X1kLNjHfhA6R",
        "outputId": "bbc99dd4-80ff-491b-f2e4-55ffba004e3f"
      },
      "source": [
        "import pandas as pd\n",
        "\n",
        "from sklearn import datasets\n",
        "from sklearn.linear_model import SGDClassifier\n",
        "from sklearn.metrics import make_scorer\n",
        "from sklearn.metrics import f1_score\n",
        "from sklearn.model_selection import cross_val_score\n",
        "from sklearn.model_selection import train_test_split\n",
        "from sklearn.pipeline import Pipeline\n",
        "from sklearn.preprocessing import StandardScaler\n",
        "\n",
        "wine_bunch = datasets.load_wine()\n",
        "wine_bunch.keys()\n",
        "\n",
        "FEATURES = wine_bunch['feature_names']\n",
        "TARGET = 'species'\n",
        "\n",
        "wine_df = pd.DataFrame(wine_bunch['data'], columns=FEATURES)\n",
        "wine_df[TARGET] = wine_bunch['target']\n",
        "\n",
        "X_train, X_validation, y_train, y_validation = train_test_split(\n",
        "    wine_df[FEATURES],\n",
        "    wine_df[TARGET], \n",
        "    test_size=0.1,\n",
        "    stratify=wine_df[TARGET])\n",
        "\n",
        "estimator = Pipeline(\n",
        "  steps=[\n",
        "    ['scale', StandardScaler()],\n",
        "    ['classifier', SGDClassifier()],\n",
        "  ]\n",
        ")\n",
        "\n",
        "scores = cross_val_score(\n",
        "    estimator,\n",
        "    X_train[FEATURES],\n",
        "    y_train,\n",
        "    cv=5,\n",
        "    # We calculated F1 here too. This isn't required.\n",
        "    scoring=make_scorer(f1_score, average='micro')\n",
        ")\n",
        "\n",
        "# Solution Starts Here\n",
        "estimator.fit(X_train, y_train)\n",
        "predictions = estimator.predict(X_validation)\n",
        "f1_score(y_validation, predictions, average='micro')"
      ],
      "execution_count": 18,
      "outputs": [
        {
          "output_type": "execute_result",
          "data": {
            "text/plain": [
              "0.8888888888888888"
            ]
          },
          "metadata": {
            "tags": []
          },
          "execution_count": 18
        }
      ]
    },
    {
      "cell_type": "code",
      "metadata": {
        "colab": {
          "base_uri": "https://localhost:8080/"
        },
        "id": "hYT2GQuSikTe",
        "outputId": "f986d9fe-2d7c-41fb-dd00-3b016518c04f"
      },
      "source": [
        "from sklearn.metrics import confusion_matrix\n",
        "confusion = confusion_matrix(y_validation, predictions)\n",
        "print('Confusion Matrix\\n')\n",
        "print(confusion)\n",
        "\n",
        "#importing accuracy_score, precision_score, recall_score, f1_score\n",
        "from sklearn.metrics import accuracy_score, precision_score, recall_score, f1_score\n",
        "print('\\nAccuracy: {:.2f}\\n'.format(accuracy_score(y_validation, predictions)))\n",
        "\n",
        "print('Micro Precision: {:.2f}'.format(precision_score(y_validation, predictions, average='micro')))\n",
        "print('Micro Recall: {:.2f}'.format(recall_score(y_validation, predictions, average='micro')))\n",
        "print('Micro F1-score: {:.2f}\\n'.format(f1_score(y_validation, predictions, average='micro')))\n",
        "\n",
        "print('Macro Precision: {:.2f}'.format(precision_score(y_validation, predictions, average='macro')))\n",
        "print('Macro Recall: {:.2f}'.format(recall_score(y_validation, predictions, average='macro')))\n",
        "print('Macro F1-score: {:.2f}\\n'.format(f1_score(y_validation, predictions, average='macro')))\n",
        "\n",
        "print('Weighted Precision: {:.2f}'.format(precision_score(y_validation, predictions, average='weighted')))\n",
        "print('Weighted Recall: {:.2f}'.format(recall_score(y_validation, predictions, average='weighted')))\n",
        "print('Weighted F1-score: {:.2f}'.format(f1_score(y_validation, predictions, average='weighted')))\n",
        "\n",
        "from sklearn.metrics import classification_report\n",
        "print('\\nClassification Report\\n')\n",
        "print(classification_report(y_validation, predictions, target_names=['Class 1', 'Class 2', 'Class 3']))"
      ],
      "execution_count": 19,
      "outputs": [
        {
          "output_type": "stream",
          "text": [
            "Confusion Matrix\n",
            "\n",
            "[[5 1 0]\n",
            " [0 6 1]\n",
            " [0 0 5]]\n",
            "\n",
            "Accuracy: 0.89\n",
            "\n",
            "Micro Precision: 0.89\n",
            "Micro Recall: 0.89\n",
            "Micro F1-score: 0.89\n",
            "\n",
            "Macro Precision: 0.90\n",
            "Macro Recall: 0.90\n",
            "Macro F1-score: 0.89\n",
            "\n",
            "Weighted Precision: 0.90\n",
            "Weighted Recall: 0.89\n",
            "Weighted F1-score: 0.89\n",
            "\n",
            "Classification Report\n",
            "\n",
            "              precision    recall  f1-score   support\n",
            "\n",
            "     Class 1       1.00      0.83      0.91         6\n",
            "     Class 2       0.86      0.86      0.86         7\n",
            "     Class 3       0.83      1.00      0.91         5\n",
            "\n",
            "    accuracy                           0.89        18\n",
            "   macro avg       0.90      0.90      0.89        18\n",
            "weighted avg       0.90      0.89      0.89        18\n",
            "\n"
          ],
          "name": "stdout"
        }
      ]
    }
  ]
}